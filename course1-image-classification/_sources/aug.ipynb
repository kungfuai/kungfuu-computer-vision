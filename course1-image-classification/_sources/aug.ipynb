{
 "cells": [
  {
   "cell_type": "markdown",
   "metadata": {},
   "source": [
    "# Effect of Image Pre-processing and Augmentation\n",
    "\n",
    "Topics:\n",
    "\n",
    "- Standardization and normalization\n",
    "- Granularity of normalization (dataset vs. per image vs. per pixel)\n",
    "- Affine transformations\n",
    "- Color transformations\n",
    "- Mixup, Cutmix\n",
    "- [Albumentation example](https://www.kaggle.com/code/kaushal2896/data-augmentation-tutorial-basic-cutout-mixup/notebook)\n",
    "\n",
    "## Baseline\n"
   ]
  },
  {
   "cell_type": "code",
   "execution_count": null,
   "metadata": {},
   "outputs": [],
   "source": []
  }
 ],
 "metadata": {
  "kernelspec": {
   "display_name": "Python 3.6.9 64-bit",
   "language": "python",
   "name": "python3"
  },
  "language_info": {
   "name": "python",
   "version": "3.6.9"
  },
  "orig_nbformat": 4,
  "vscode": {
   "interpreter": {
    "hash": "31f2aee4e71d21fbe5cf8b01ff0e069b9275f58929596ceb00d14d90e3e16cd6"
   }
  }
 },
 "nbformat": 4,
 "nbformat_minor": 2
}
