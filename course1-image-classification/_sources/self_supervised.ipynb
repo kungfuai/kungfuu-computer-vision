{
 "cells": [
  {
   "cell_type": "markdown",
   "metadata": {},
   "source": [
    "# Self Supervised Learning as a Pre-train Step for Image Classification\n",
    "\n",
    "When there is a large number of unlabeled images and a small number of labeled images, self supervised learning is a great way to make use of unlabeled data. How much does it help with the classification task? This is the question we are trying to answer. \n",
    "\n",
    "First let's go through an example of training a MOCOV3 model on CIFAR10 and using linear probing to evaluate the accuracy of the classification downstream task."
   ]
  }
 ],
 "metadata": {
  "kernelspec": {
   "display_name": "Python 3.6.9 64-bit",
   "language": "python",
   "name": "python3"
  },
  "language_info": {
   "name": "python",
   "version": "3.6.9"
  },
  "orig_nbformat": 4,
  "vscode": {
   "interpreter": {
    "hash": "31f2aee4e71d21fbe5cf8b01ff0e069b9275f58929596ceb00d14d90e3e16cd6"
   }
  }
 },
 "nbformat": 4,
 "nbformat_minor": 2
}
