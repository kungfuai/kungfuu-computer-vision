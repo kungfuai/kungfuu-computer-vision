{
 "cells": [
  {
   "cell_type": "markdown",
   "metadata": {},
   "source": [
    "# Effect of Model Architecture\n",
    "\n",
    "Topics:\n",
    "\n",
    "- Backbone\n",
    "- Residual Connection\n",
    "- Additional layers in the classification head\n",
    "- Additional layers in the beginning of the network\n",
    "- Stride\n",
    "- Max Pooling\n",
    "- Layer width\n",
    "- Attention and Transformers"
   ]
  },
  {
   "cell_type": "code",
   "execution_count": null,
   "metadata": {},
   "outputs": [],
   "source": []
  }
 ],
 "metadata": {
  "kernelspec": {
   "display_name": "Python 3.6.9 64-bit",
   "language": "python",
   "name": "python3"
  },
  "language_info": {
   "name": "python",
   "version": "3.6.9"
  },
  "orig_nbformat": 4,
  "vscode": {
   "interpreter": {
    "hash": "31f2aee4e71d21fbe5cf8b01ff0e069b9275f58929596ceb00d14d90e3e16cd6"
   }
  }
 },
 "nbformat": 4,
 "nbformat_minor": 2
}
