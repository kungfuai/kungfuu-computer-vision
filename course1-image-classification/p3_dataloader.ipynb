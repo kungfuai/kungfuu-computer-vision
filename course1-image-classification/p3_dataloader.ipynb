{
 "cells": [
  {
   "cell_type": "markdown",
   "metadata": {},
   "source": [
    "# Efficent Data Loading for Model Training\n",
    "\n",
    "Iteration speed is one of the most important factors in the success of experimentation and model training. This is because machine learning is very much an empirical science. Serious researchers and practitioners tend not to make bold claims that certain methods work for all problems. Instead, recipes need to be found for a particular domain, and even a particular dataset.\n",
    "\n",
    "Data loading is an important factor for iteration speed. In this project we will look at the different choices of data loading."
   ]
  },
  {
   "cell_type": "code",
   "execution_count": null,
   "metadata": {},
   "outputs": [],
   "source": []
  }
 ],
 "metadata": {
  "language_info": {
   "name": "python"
  },
  "orig_nbformat": 4
 },
 "nbformat": 4,
 "nbformat_minor": 2
}
