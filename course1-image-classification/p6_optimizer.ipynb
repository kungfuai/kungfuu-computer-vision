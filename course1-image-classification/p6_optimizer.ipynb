{
 "cells": [
  {
   "cell_type": "markdown",
   "metadata": {},
   "source": [
    "# Effect of Optimizers\n",
    "\n",
    "Topics:\n",
    "\n",
    "- optimizer type: SGD, Adam\n",
    "- batch size\n",
    "- initialization: Xavier, Kaiming\n",
    "- initialization: pretrained weights, and interation with training sample size\n",
    "- learning rate\n",
    "- learning rate schedule\n",
    "- momentum\n",
    "- shuffling\n",
    "- weight decay\n",
    "- learning rate decay\n",
    "- gradient clipping\n",
    "- SMA\n",
    "- gradient descent with noise\n",
    "- monitoring gradients\n"
   ]
  },
  {
   "cell_type": "code",
   "execution_count": null,
   "metadata": {},
   "outputs": [],
   "source": []
  }
 ],
 "metadata": {
  "kernelspec": {
   "display_name": "Python 3.6.9 64-bit",
   "language": "python",
   "name": "python3"
  },
  "language_info": {
   "name": "python",
   "version": "3.6.9"
  },
  "orig_nbformat": 4,
  "vscode": {
   "interpreter": {
    "hash": "31f2aee4e71d21fbe5cf8b01ff0e069b9275f58929596ceb00d14d90e3e16cd6"
   }
  }
 },
 "nbformat": 4,
 "nbformat_minor": 2
}
