{
 "cells": [
  {
   "cell_type": "markdown",
   "metadata": {},
   "source": [
    "# Effect of Image Pre-processing and Augmentation\n",
    "\n",
    "Topics:\n",
    "\n",
    "- Standardization and normalization\n",
    "- Granularity of normalization (dataset vs. per image vs. per pixel)\n",
    "- Affine transformations\n",
    "- Color transformations\n",
    "- Mixup, Cutmix\n",
    "\n",
    "## Baseline\n",
    "\n",
    "First, let's bring in the baseline training code from [project 2](p2_training.html)."
   ]
  },
  {
   "cell_type": "code",
   "execution_count": null,
   "metadata": {},
   "outputs": [],
   "source": []
  }
 ],
 "metadata": {
  "kernelspec": {
   "display_name": "Python 3.6.9 64-bit",
   "language": "python",
   "name": "python3"
  },
  "language_info": {
   "name": "python",
   "version": "3.6.9"
  },
  "orig_nbformat": 4,
  "vscode": {
   "interpreter": {
    "hash": "31f2aee4e71d21fbe5cf8b01ff0e069b9275f58929596ceb00d14d90e3e16cd6"
   }
  }
 },
 "nbformat": 4,
 "nbformat_minor": 2
}
